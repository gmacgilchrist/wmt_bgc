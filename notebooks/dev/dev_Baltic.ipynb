{
 "cells": [
  {
   "cell_type": "markdown",
   "metadata": {},
   "source": [
    "## Baltic test case configuration\n",
    "Diagnostics output to close heat, salt, thickness budgets, and derive watermass transformation.  \n",
    "This notebook is a working space to explore that output."
   ]
  },
  {
   "cell_type": "code",
   "execution_count": 4,
   "metadata": {},
   "outputs": [],
   "source": [
    "import xarray as xr\n",
    "import numpy as np\n",
    "from xhistogram.xarray import histogram"
   ]
  },
  {
   "cell_type": "code",
   "execution_count": 10,
   "metadata": {},
   "outputs": [],
   "source": [
    "### Data loading, grabbed from MOM6-analysis cookbook\n",
    "# Load data on native grid\n",
    "rootdir = '/archive/gam/MOM6-examples/ice_ocean_SIS2/Baltic_OM4_025/tutorial_wmt/'\n",
    "gridname = 'natv'\n",
    "prefix = '19000101.ocean_'\n",
    "# Diagnostics were saved into different files\n",
    "suffixs = ['thck','heat','salt','surf','xtra']\n",
    "ds = xr.Dataset()\n",
    "for suffix in suffixs:\n",
    "    filename = prefix+gridname+'_'+suffix+'*.nc'\n",
    "    dsnow = xr.open_mfdataset(rootdir+filename)\n",
    "    ds = xr.merge([ds,dsnow])\n",
    "gridname = '19000101.ocean_static.nc'\n",
    "grid = xr.open_dataset(rootdir+gridname).squeeze()\n",
    "# Specify constants for the reference density and the specific heat capacity\n",
    "rho0 = 1035.\n",
    "Cp = 3992."
   ]
  },
  {
   "cell_type": "code",
   "execution_count": 33,
   "metadata": {},
   "outputs": [],
   "source": [
    "# Specify the diffusive tendency terms\n",
    "processes=['boundary forcing','vertical diffusion','neutral diffusion',\n",
    "           'frazil ice','internal heat']\n",
    "terms = {}\n",
    "terms['heat'] = {'boundary forcing':'boundary_forcing_heat_tendency',\n",
    "         'vertical diffusion':'opottempdiff',\n",
    "         'neutral diffusion':'opottemppmdiff',\n",
    "         'frazil ice':'frazil_heat_tendency',\n",
    "         'internal heat':'internal_heat_heat_tendency'}\n",
    "terms['salt'] = {'boundary forcing':'boundary_forcing_salt_tendency',\n",
    "         'vertical diffusion':'osaltdiff',\n",
    "         'neutral diffusion':'osaltpmdiff',\n",
    "         'frazil ice':None,\n",
    "         'internal heat':None}\n",
    "terms['thck'] = {'boundary forcing':'boundary_forcing_h_tendency',\n",
    "         'vertical diffusion':None,\n",
    "         'neutral diffusion':None,\n",
    "         'frazil ice':None,\n",
    "         'internal heat':None}\n",
    "\n",
    "colors = {'boundary forcing':'tab:blue',\n",
    "         'vertical diffusion':'tab:orange',\n",
    "         'neutral diffusion':'tab:green',\n",
    "         'frazil ice':'tab:red',\n",
    "         'internal heat':'tab:purple'}"
   ]
  },
  {
   "cell_type": "markdown",
   "metadata": {},
   "source": [
    "***\n",
    "11/11/20 gmac  \n",
    "In equating the content tendency output by the model with the tendency of the materially conserved tracer (e.g. heat tendency and temperature), I think I am making an error by not accomodating changes in thickness. The product rule shows clearly that $h\\dot{\\lambda} \\neq \\dot{(h\\lambda)}$, and it is the LHS that we wish to have in the WMT expression. Here, try applying a correction for $\\lambda\\dot{h}$.  \n",
    "*[But, look again carefully at MOM5_elements, Eq. 36.87, equates the two. There is no thickness rate of change on the LHS. This is true due to continuity, **except** in the presence of a surface volume flux. This is what is then explored in Section 36.8.6.]* "
   ]
  },
  {
   "cell_type": "code",
   "execution_count": 48,
   "metadata": {},
   "outputs": [],
   "source": [
    "G_prior = xr.Dataset()\n",
    "G = xr.Dataset()\n",
    "budget = 'salt'\n",
    "\n",
    "# Specify the tracer, its range and bin widths (\\delta\\lambda) for the calculation\n",
    "if budget == 'heat':\n",
    "    tracer = ds['temp']\n",
    "    delta_l = 0.2\n",
    "    lmin = -2\n",
    "    lmax = 10\n",
    "elif budget == 'salt':\n",
    "    tracer = ds['salt']\n",
    "    delta_l = 0.2\n",
    "    lmin = 2\n",
    "    lmax = 36\n",
    "bins = np.arange(lmin,lmax,delta_l)\n",
    "\n",
    "for process in processes:\n",
    "    term = terms[budget][process]\n",
    "    if term is not None:\n",
    "        nanmask = np.isnan(ds[term])\n",
    "        tendency = ds[term]\n",
    "        if budget == 'heat':\n",
    "            tendency /= Cp*rho0\n",
    "        \n",
    "        # Calculate G prior to thickness correction\n",
    "        G_prior[process] = histogram(tracer.where(~nanmask).squeeze(),\n",
    "                        bins=[bins],\n",
    "                        dim=['xh','yh','zl'],\n",
    "                        weights=(\n",
    "                            rho0*(tendency\n",
    "                                 )*grid['areacello']\n",
    "                        ).where(~nanmask).squeeze()\n",
    "                          )/np.diff(bins)\n",
    "        \n",
    "        # Accomodate thickness changes if nonzero\n",
    "        term_thck = terms['thck'][process]\n",
    "        if term_thck is not None:\n",
    "            tendency -= tracer*ds[term_thck]\n",
    "        \n",
    "        G[process] = histogram(tracer.where(~nanmask).squeeze(),\n",
    "                            bins=[bins],\n",
    "                            dim=['xh','yh','zl'],\n",
    "                            weights=(\n",
    "                                rho0*(tendency\n",
    "                                     )*grid['areacello']\n",
    "                            ).where(~nanmask).squeeze()\n",
    "                              )/np.diff(bins)"
   ]
  },
  {
   "cell_type": "code",
   "execution_count": 49,
   "metadata": {},
   "outputs": [
    {
     "data": {
      "image/png": "[encoded data removed]",
      "text/plain": [
       "<Figure size 432x288 with 1 Axes>"
      ]
     },
     "metadata": {
      "needs_background": "light"
     },
     "output_type": "display_data"
    }
   ],
   "source": [
    "for process in G.data_vars:\n",
    "        G_prior[process].plot(label=process,color=colors[process],linestyle=':')\n",
    "        G[process].plot(label=process,color=colors[process])"
   ]
  },
  {
   "cell_type": "code",
   "execution_count": null,
   "metadata": {},
   "outputs": [],
   "source": []
  }
 ],
 "metadata": {
  "kernelspec": {
   "display_name": "Python 3",
   "language": "python",
   "name": "python3"
  },
  "language_info": {
   "codemirror_mode": {
    "name": "ipython",
    "version": 3
   },
   "file_extension": ".py",
   "mimetype": "text/x-python",
   "name": "python",
   "nbconvert_exporter": "python",
   "pygments_lexer": "ipython3",
   "version": "3.8.5"
  }
 },
 "nbformat": 4,
 "nbformat_minor": 4
}
