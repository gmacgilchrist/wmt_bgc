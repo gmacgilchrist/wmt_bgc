{
 "cells": [
  {
   "cell_type": "code",
   "execution_count": 1,
   "metadata": {},
   "outputs": [
    {
     "ename": "NameError",
     "evalue": "name 'np' is not defined",
     "output_type": "error",
     "traceback": [
      "\u001b[0;31m---------------------------------------------------------------------------\u001b[0m",
      "\u001b[0;31mNameError\u001b[0m                                 Traceback (most recent call last)",
      "\u001b[0;32m<ipython-input-1-ebd9edb6bd95>\u001b[0m in \u001b[0;36m<module>\u001b[0;34m\u001b[0m\n\u001b[1;32m      1\u001b[0m \u001b[0mvar\u001b[0m \u001b[0;34m=\u001b[0m \u001b[0;34m'error'\u001b[0m\u001b[0;34m\u001b[0m\u001b[0;34m\u001b[0m\u001b[0m\n\u001b[0;32m----> 2\u001b[0;31m \u001b[0mlons\u001b[0m \u001b[0;34m=\u001b[0m \u001b[0mnp\u001b[0m\u001b[0;34m.\u001b[0m\u001b[0marange\u001b[0m\u001b[0;34m(\u001b[0m\u001b[0;34m-\u001b[0m\u001b[0;36m180\u001b[0m\u001b[0;34m,\u001b[0m\u001b[0;36m180\u001b[0m\u001b[0;34m,\u001b[0m\u001b[0;36m10\u001b[0m\u001b[0;34m)\u001b[0m\u001b[0;34m\u001b[0m\u001b[0;34m\u001b[0m\u001b[0m\n\u001b[0m\u001b[1;32m      3\u001b[0m \u001b[0mlats\u001b[0m \u001b[0;34m=\u001b[0m \u001b[0mnp\u001b[0m\u001b[0;34m.\u001b[0m\u001b[0marange\u001b[0m\u001b[0;34m(\u001b[0m\u001b[0;34m-\u001b[0m\u001b[0;36m90\u001b[0m\u001b[0;34m,\u001b[0m\u001b[0;36m90\u001b[0m\u001b[0;34m,\u001b[0m\u001b[0;36m10\u001b[0m\u001b[0;34m)\u001b[0m\u001b[0;34m\u001b[0m\u001b[0;34m\u001b[0m\u001b[0m\n\u001b[1;32m      4\u001b[0m \u001b[0mfig\u001b[0m\u001b[0;34m,\u001b[0m\u001b[0max\u001b[0m \u001b[0;34m=\u001b[0m \u001b[0mplt\u001b[0m\u001b[0;34m.\u001b[0m\u001b[0msubplots\u001b[0m\u001b[0;34m(\u001b[0m\u001b[0mfigsize\u001b[0m\u001b[0;34m=\u001b[0m\u001b[0;34m(\u001b[0m\u001b[0;36m10\u001b[0m\u001b[0;34m,\u001b[0m\u001b[0;36m7\u001b[0m\u001b[0;34m)\u001b[0m\u001b[0;34m,\u001b[0m\u001b[0mncols\u001b[0m\u001b[0;34m=\u001b[0m\u001b[0;36m2\u001b[0m\u001b[0;34m)\u001b[0m\u001b[0;34m\u001b[0m\u001b[0;34m\u001b[0m\u001b[0m\n\u001b[1;32m      5\u001b[0m \u001b[0;32mfor\u001b[0m \u001b[0mi\u001b[0m \u001b[0;32min\u001b[0m \u001b[0mlons\u001b[0m\u001b[0;34m:\u001b[0m\u001b[0;34m\u001b[0m\u001b[0;34m\u001b[0m\u001b[0m\n",
      "\u001b[0;31mNameError\u001b[0m: name 'np' is not defined"
     ]
    }
   ],
   "source": [
    "var = 'error'\n",
    "lons = np.arange(-180,180,10)\n",
    "lats = np.arange(-90,90,10)\n",
    "fig,ax = plt.subplots(figsize=(10,7),ncols=2)\n",
    "for i in lons:\n",
    "    for j in lats:\n",
    "        prof_rho2 = ds_rho2.sel(xh=i,yh=j,method='nearest').squeeze()\n",
    "        if np.where(~np.isnan(prof_rho2[var]))[0].size != 0:\n",
    "            z = prof_rho2.thkcello.cumsum(dim='rho2_l').where(prof_rho2.thkcello!=0,drop=True)\n",
    "            v = prof_rho2[var].where(prof_rho2.thkcello!=0,drop=True)\n",
    "            ax[0].plot(v,z,color='lightgray',marker='.')\n",
    "            \n",
    "        prof_z = ds_z.sel(xh=i,yh=j,method='nearest').squeeze()\n",
    "        if np.where(~np.isnan(prof_z[var]))[0].size != 0:\n",
    "            z = prof_z.thkcello.cumsum(dim='z_l').where(prof_z.thkcello!=0,drop=True)\n",
    "            v = prof_z[var].where(prof_z.thkcello!=0,drop=True)\n",
    "            ax[1].plot(v,z,color='lightgray',marker='.')\n",
    "ax[0].invert_yaxis()\n",
    "ax[0].grid()\n",
    "ax[1].invert_yaxis()\n",
    "ax[1].grid()"
   ]
  },
  {
   "cell_type": "code",
   "execution_count": null,
   "metadata": {},
   "outputs": [],
   "source": [
    "######\n",
    "# PATCHING OF AN ERROR IN XHISTOGRAM - ALLOWS XARRAY DATAARRAYS TO BE HISTOGRAMMED FROM THE CORE ALGORITHM\n",
    "######\n",
    "def histsum_ds(ds,bin_data,bins,dim,verbose=False,variables=None):\n",
    "    ds = ds.copy()\n",
    "    vol = ds['volcello']\n",
    "    if variables is not None:\n",
    "        ds = ds[variables]\n",
    "    ds_rebinned = xr.Dataset(coords={'time':np.arange(0,12,1),bin_data.name+'_bin':0.5*(bins[1:]+bins[:-1])})\n",
    "    for var in ds.data_vars:\n",
    "        if verbose:\n",
    "            print(var)\n",
    "            var\n",
    "        if ds[var].dtype == 'float32':\n",
    "            nanmask = np.isnan(ds[var])\n",
    "            ds_rebinned[var] = (['time',bin_data.name+'_bin'],histogram(\n",
    "                bin_data.where(~nanmask), bins=[bins], axis=dim, weights=(ds[var]*vol).where(~nanmask),block_size=None\n",
    "            ))\n",
    "    return ds_rebinned"
   ]
  },
  {
   "cell_type": "code",
   "execution_count": null,
   "metadata": {},
   "outputs": [],
   "source": [
    "### Loading grid files on fritzcat\n",
    "def add_tile(ds):\n",
    "    file = ds.encoding[\"source\"]\n",
    "    ntile = np.array([int(file[-5:-3])-1])\n",
    "    return ds.expand_dims({'tile':ntile})\n",
    "# grid data\n",
    "localdir = 'nctiles_grid/'\n",
    "filename = 'GRID.*.nc'\n",
    "grid = xr.open_mfdataset(rootdir+localdir+filename,preprocess=add_tile)\n",
    "grid = grid.rename({'i1':'k','i2':'j','i3':'i'})"
   ]
  }
 ],
 "metadata": {
  "kernelspec": {
   "display_name": "Python 3",
   "language": "python",
   "name": "python3"
  },
  "language_info": {
   "codemirror_mode": {
    "name": "ipython",
    "version": 3
   },
   "file_extension": ".py",
   "mimetype": "text/x-python",
   "name": "python",
   "nbconvert_exporter": "python",
   "pygments_lexer": "ipython3",
   "version": "3.8.5"
  }
 },
 "nbformat": 4,
 "nbformat_minor": 4
}
