{
 "cells": [
  {
   "cell_type": "code",
   "execution_count": 1,
   "metadata": {},
   "outputs": [],
   "source": [
    "import xarray as xr\n",
    "import numpy as np\n",
    "from matplotlib import pyplot as plt\n",
    "import budgetcalcs as bc\n",
    "import calc_wmt as wmt"
   ]
  },
  {
   "cell_type": "code",
   "execution_count": 3,
   "metadata": {},
   "outputs": [],
   "source": [
    "rootdir = '/archive/gam/MOM6-examples/ice_ocean_SIS2/Baltic_OM4_025/1yr/'\n",
    "averaging = '5daily'\n",
    "vgrid = 'native'\n",
    "filename = '19000101.ocean_'+averaging+'_'+vgrid+'_19*.nc'\n",
    "filename_grid = '19000101.ocean_static.nc'\n",
    "ds = xr.open_mfdataset(rootdir+filename, combine='by_coords')\n",
    "delta_t = ds['average_DT'].astype('timedelta64[s]')\n",
    "grid = xr.open_dataset(rootdir+filename_grid)\n",
    "\n",
    "cp = 3992.0\n",
    "rho0 = 1035.0\n",
    "\n",
    "if vgrid == 'z':\n",
    "    ds = ds.rename({'z_l':'zl'})"
   ]
  },
  {
   "cell_type": "code",
   "execution_count": 4,
   "metadata": {},
   "outputs": [
    {
     "name": "stderr",
     "output_type": "stream",
     "text": [
      "/nbhome/gam/miniconda/envs/mom6-clean/lib/python3.8/site-packages/xarray/coding/times.py:426: SerializationWarning: Unable to decode time axis into full numpy.datetime64 objects, continuing using cftime.datetime objects instead, reason: dates out of range\n",
      "  dtype = _decode_cf_datetime_dtype(data, units, calendar, self.use_cftime)\n"
     ]
    }
   ],
   "source": [
    "rootdir = '/archive/gam/MOM6-gm/ocean_only/box/dev_core/'\n",
    "averaging = '6hourly'\n",
    "filename = 'ocean_'+averaging+'_'+vgrid+'.nc'\n",
    "filename_grid = 'ocean_static.nc'\n",
    "ds = xr.open_dataset(rootdir+filename)\n",
    "delta_t = ds['average_DT'].astype('timedelta64[s]')\n",
    "grid = xr.open_dataset(rootdir+filename_grid)"
   ]
  },
  {
   "cell_type": "code",
   "execution_count": 7,
   "metadata": {},
   "outputs": [],
   "source": [
    "# Budget terms\n",
    "heat_terms = ['opottemptend','T_advection_xy','Th_tendency_vert_remap',\n",
    "              'boundary_forcing_heat_tendency',#'internal_heat_heat_tendency',\n",
    "              'opottempdiff','opottemppmdiff','frazil_heat_tendency']\n",
    "salt_terms = ['osalttend','S_advection_xy','Sh_tendency_vert_remap',\n",
    "              'boundary_forcing_salt_tendency','osaltdiff','osaltpmdiff']\n",
    "h_terms = ['dhdt','dynamics_h_tendency','vert_remap_h_tendency',\n",
    "           'boundary_forcing_h_tendency','internal_heat_h_tendency']"
   ]
  },
  {
   "cell_type": "code",
   "execution_count": 8,
   "metadata": {},
   "outputs": [],
   "source": [
    "# Calculate material derivative and diffusive terms\n",
    "# HEAT\n",
    "signsLHS = [-1,1,1]\n",
    "signsRHS = [1,1,1,1,1]\n",
    "termsLHS = heat_terms[:3]\n",
    "termsRHS = heat_terms[3:]\n",
    "Dheat, dheat, error_heat = bc.calc_materialderivative(ds,termsLHS,signsLHS,termsRHS,signsRHS,plot=False)\n",
    "# SALT\n",
    "signsLHS = [-1,1,1]\n",
    "signsRHS = [1,1,1]\n",
    "termsLHS = salt_terms[:3]\n",
    "termsRHS = salt_terms[3:]\n",
    "# Dsalt, dsalt, error_salt = bc.calc_materialderivative(ds,termsLHS,signsLHS,termsRHS,signsRHS,plot=False)"
   ]
  },
  {
   "cell_type": "code",
   "execution_count": 9,
   "metadata": {},
   "outputs": [],
   "source": [
    "def calc_E_wrapper(l,dls,l_i_vals,c=None,weight=None,dims=['xh','yh','zl']):\n",
    "    '''Wrapper for calc_E to allow evaluation of contributions from different processes,\n",
    "    each represented as a DataArray in the Dataset [dls].\n",
    "    l : xr.DataArray;\n",
    "        Intensive variable (e.g. temp) that defines layers across which transport\n",
    "        will be determined.\n",
    "    dls : xr.Dataset;\n",
    "        Tendencies of l due to differnt diffusive processes,\n",
    "        e.g. horizontal and vertical diffusion tendencies\n",
    "        Multiple processes are included as Dataarrays inside a dataset.\n",
    "    l_i_vals : ndarray or xr.DataArray;\n",
    "        Interface values of l; transport will be across midpoints of these interfaces\n",
    "    c : None or scalar or xr.DataArray\n",
    "        If included, evaluating transport of tracer as opposed to volume\n",
    "        A scalar could be density, to get mass rather than volume transport\n",
    "    weight : xr.DataArray;\n",
    "        Distribution of weights by which to multiply [dl] to remove spatial\n",
    "        dimension of units. E.g. heat flux in Wm-2 should be multiplied by the area\n",
    "        of the grid cell to recover total heating.\n",
    "    dims : list of string;\n",
    "        Dimensions along which to perform histogram.'''\n",
    "    \n",
    "    import xarray as xr\n",
    "    \n",
    "    # Set up dataset for contributions to E\n",
    "    E = xr.Dataset()\n",
    "    for var in dls.data_vars:\n",
    "        dl = dls[var]\n",
    "        E[var] = calc_E(l,dl,l_i_vals,c=c,weight=weight,dims=dims)\n",
    "        \n",
    "    return E"
   ]
  },
  {
   "cell_type": "code",
   "execution_count": 10,
   "metadata": {},
   "outputs": [],
   "source": [
    "def calc_E(l,dl,l_i_vals,c=None,weight=None,dims=['xh','yh','zl']):\n",
    "    '''Transport of mass or tracer across contours of [l], due to processes [dl].\n",
    "    l : xr.DataArray;\n",
    "        Intensive variable (e.g. temp) that defines layers across which transport\n",
    "        will be determined.\n",
    "    dl : xr.DataArray;\n",
    "        Tendency of l due to (individual or total sum of) diffusive processes,\n",
    "        e.g. heat tendencies\n",
    "        Multiple processes are included as Dataarrays inside a dataset.\n",
    "    l_i_vals : ndarray or xr.DataArray;\n",
    "        Interface values of l; transport will be across midpoints of these interfaces\n",
    "    c : None or scalar or xr.DataArray\n",
    "        If included, evaluating transport of tracer as opposed to volume\n",
    "        A scalar could be density, to get mass rather than volume transport\n",
    "    weight : xr.DataArray;\n",
    "        Distribution of weights by which to multiply [dl] to remove spatial\n",
    "        dimension of units. E.g. heat flux in Wm-2 should be multiplied by the area\n",
    "        of the grid cell to recover total heating.\n",
    "    dims : list of string;\n",
    "        Dimensions along which to perform histogram.'''\n",
    "    \n",
    "    import xarray as xr\n",
    "    import numpy as np\n",
    "    from xhistogram.xarray import histogram\n",
    "    \n",
    "    # Get the spacing of contours of l\n",
    "    delta_l_vals = np.diff(l_i_vals)\n",
    "    # xhistogram has some curiousities around nan-values, so exclude them\n",
    "    nanmask = np.isnan(l)\n",
    "    \n",
    "    # Specify what should be integrated\n",
    "    # (this is rather clunky with if statements, but is meant to avoid loading\n",
    "    # unnecessary variables, such as dummy [c]'s or [weight]'s)\n",
    "    if c==None:\n",
    "        if weight is None:\n",
    "            weights = dl\n",
    "        else:\n",
    "            weights = dl*weight\n",
    "    else:\n",
    "        if weight is None:\n",
    "            weights = c*dl\n",
    "        else:\n",
    "            weights = c*dl*weight\n",
    "            \n",
    "    # Integrate [weights] within layers of [l] and divide by [delta_l]\n",
    "    E = histogram(l.where(~nanmask),\n",
    "                  bins=[l_i_vals],\n",
    "                  weights=weights.where(~nanmask),\n",
    "                  dim=dims,\n",
    "                  block_size=1)/delta_l_vals\n",
    "    \n",
    "    return E"
   ]
  },
  {
   "cell_type": "code",
   "execution_count": 11,
   "metadata": {},
   "outputs": [],
   "source": [
    "dls = ds[heat_terms[3:]]/cp/rho0\n",
    "l = ds['temp']\n",
    "c = rho0\n",
    "l_i_vals = np.arange(-4,34,0.5)\n",
    "weight = grid.areacello\n",
    "E = calc_E_wrapper(l=l, dls=dls, l_i_vals=l_i_vals, c=c, weight=weight)"
   ]
  },
  {
   "cell_type": "code",
   "execution_count": 12,
   "metadata": {},
   "outputs": [],
   "source": [
    "def calc_volumetric_cumsum(l,p,l_l_vals,weight=None,dims=['xh','yh','zl'],greaterthan=True,):\n",
    "    '''Integration of quantity [p] across volume with [l] greater than layer defined\n",
    "    by contours l_l_vals.\n",
    "    \n",
    "    *** IMPORTANT *** \n",
    "    Limits of l_l_vals must span the full range of l.\n",
    "    *****************\n",
    "    \n",
    "    l : xr.DataArray;\n",
    "        Intensive variable, to define volume boundary\n",
    "    p : xr.DataArray;\n",
    "        Quantity to be integrated (e.g. thickness)\n",
    "    l_l_vals : ndarray or xr.DataArray\n",
    "        Values of the contours for which the integration will be calculated\n",
    "        *** This is currently set up such that the layer values are increasing ***\n",
    "        *** I expect it can be generalized, but have not explored this yet     ***\n",
    "    weight : Distribution of weights by which to multiply [p] to remove spatial\n",
    "        dimension of units. E.g. thickness in units 'm' should be multiplied by the area\n",
    "        of the grid cell to recover total volume.\n",
    "    greaterthan : boolean;\n",
    "        True if the integral should be over contours \n",
    "        greater than each contour. False for less than.'''\n",
    "    \n",
    "    import xarray as xr\n",
    "    import numpy as np\n",
    "    from xhistogram.xarray import histogram\n",
    "    \n",
    "    # xhistogram has some curiousities around nan-values, so exclude them\n",
    "    nanmask = np.isnan(l)\n",
    "    \n",
    "    # Specify what should be integrated\n",
    "    if weight is None:\n",
    "        weights = p\n",
    "    else:\n",
    "        weights = p*weight\n",
    "        \n",
    "    # Integrate p between each contour layer\n",
    "    P_l = histogram(l.where(~nanmask),bins=[l_l_vals],weights=weights.where(~nanmask),dim=dims,block_size=1)\n",
    "    # Cumulatively sum each layer (concatenate zeros at start), and take away from total sum to reverse the order of the summation\n",
    "    # i.e. this the cumulative sum of integrated [p] from largest to smallest [l_l]\n",
    "    P_l_cumsum = xr.concat([xr.zeros_like(P_l.isel({l.name+'_bin':0})),P_l.cumsum(l.name+'_bin')],dim=l.name+'_bin')\n",
    "    if greaterthan:\n",
    "        # Take cumulative sum away from total sum to reverse the order\n",
    "        # Assign coordinates to match the contours (rather than the interfaces)\n",
    "        P = (P_l.sum(l.name+'_bin')-P_l_cumsum).assign_coords({l.name+'_bin':l_l_vals})\n",
    "    else:\n",
    "        P = P_l_cumsum.assign_coords({l.name+'_bin':l_l_vals})\n",
    "                                                                          \n",
    "    return P"
   ]
  },
  {
   "cell_type": "code",
   "execution_count": 13,
   "metadata": {},
   "outputs": [],
   "source": [
    "def calc_P_wrapper(l,ps,l_l_vals,weight=None,dims=['xh','yh','zl'],greaterthan=True):\n",
    "    '''Wrapper for calc_P to allow integration of numerous quantities,\n",
    "    each represented as a DataArray in the Dataset [ps].\n",
    "    \n",
    "    *** IMPORTANT *** \n",
    "    Limits of l_l_vals must span the full range of l.\n",
    "    *****************\n",
    "    \n",
    "    l : xr.DataArray;\n",
    "        Intensive variable (e.g. temp) that defines layers across which transport\n",
    "        will be determined.\n",
    "    ps : xr.Dataset;\n",
    "        Quantities for integration.\n",
    "        Multiple quantities are included as Dataarrays inside a dataset.\n",
    "    l_l_vals : ndarray or xr.DataArray\n",
    "        Values of the contours for which the integration will be calculated\n",
    "        *** This is currently set up such that the layer values are increasing ***\n",
    "        *** I expect it can be generalized, but have not explored this yet     ***\n",
    "    weight : xr.DataArray\n",
    "        Distribution of weights by which to multiply [p] to remove spatial\n",
    "        dimension of units. E.g. thickness in units 'm' should be multiplied by the area\n",
    "        of the grid cell to recover total volume.\n",
    "    greaterthan : boolean;\n",
    "        True if the integral should be over contours \n",
    "        greater than each contour. False for less than.'''\n",
    "    \n",
    "    import xarray as xr\n",
    "    \n",
    "    # Set up dataset for contributions to E\n",
    "    P = xr.Dataset()\n",
    "    for var in ps.data_vars:\n",
    "        p = ps[var]\n",
    "        P[var] = calc_volumetric_cumsum(l,p,l_l_vals,weight=weight,dims=dims,greaterthan=greaterthan)\n",
    "        \n",
    "    return P"
   ]
  },
  {
   "cell_type": "code",
   "execution_count": 14,
   "metadata": {},
   "outputs": [],
   "source": [
    "ps = ds[heat_terms[3:]]/cp/rho0\n",
    "l = ds['temp']\n",
    "c = rho0\n",
    "l_i_vals = np.arange(-4,34,0.5)\n",
    "l_l_vals = 0.5*(l_i_vals[:-1]+l_i_vals[1:])\n",
    "weight = grid.areacello\n",
    "greaterthan=True\n",
    "P = calc_P_wrapper(l=l, ps=ps, l_l_vals=l_l_vals, weight=weight, greaterthan=True)"
   ]
  },
  {
   "cell_type": "code",
   "execution_count": 15,
   "metadata": {},
   "outputs": [],
   "source": [
    "def calc_dPdt(l,p,l_l_vals,weight=None,greaterthan=True,dims=['xh','yh','zl'],dim_time='time',delta_t=None,new_time=None):\n",
    "    '''Take the volumetric cumulative sum of quantity [p] and calculate the change over time.\n",
    "    Within this function, the newly created dPdt can be *realigned* with other quantities, \n",
    "    by defining a [new_time]. This is basically just a wrapper to simultaneously calculate\n",
    "    P, and its change over time.\n",
    "    \n",
    "    The most common use of this function will be to calculate the change in volume/mass/tracer\n",
    "    content over time.\n",
    "    \n",
    "    l : xr.DataArray;\n",
    "        Intensive variable, to define volume boundary\n",
    "    p : xr.DataArray;\n",
    "        Quantity to be integrated (e.g. thickness)\n",
    "    l_l_vals : ndarray or xr.DataArray\n",
    "        Values of the contours for which the integration will be calculated\n",
    "        *** This is currently set up such that the layer values are increasing ***\n",
    "        *** I expect it can be generalized, but have not explored this yet     ***\n",
    "    weight : Array of weights by which to multiply [p] to remove spatial\n",
    "        dimension of units. E.g. density units in units 'kgm-3' should be multiplied by the volume\n",
    "        of the grid cell to recover total mass.\n",
    "    greaterthan : boolean;\n",
    "        True if the integral should be over contours \n",
    "        greater than each contour. False for less than.\n",
    "    dim_time : str\n",
    "        Name of time dimension in DataArrays\n",
    "    delta_t : xr.DataArray\n",
    "        Array of time differences between entries in [l] and [p]\n",
    "    new_time : xr.DataArray or np.array\n",
    "        Option to reassign time coordinates after differentiating, to align with other objects.'''\n",
    "    \n",
    "    if new_time is None:\n",
    "        new_time = l[dim_time]\n",
    "    \n",
    "    # If not defined, calculate the time from the loaded DataArrays\n",
    "    if delta_t is None:\n",
    "        delta_t_vals = l[dim_time].diff(dim_time).values.astype('timedelta64[s]').astype('int')\n",
    "        delta_t = xr.DataArray(delta_t_vals,dims=[dim_time],coords=({dim_time:new_time}))\n",
    "    \n",
    "    # Integrate the volume/mass/tracer\n",
    "    P = calc_volumetric_cumsum(l,p,l_l_vals,weight=weight,dims=dims,greaterthan=greaterthan)\n",
    "    # Calculate the change over time\n",
    "    dPdt = P.diff(dim_time).assign_coords({dim_time:new_time})/delta_t\n",
    "    \n",
    "    return dPdt"
   ]
  },
  {
   "cell_type": "code",
   "execution_count": 16,
   "metadata": {},
   "outputs": [],
   "source": [
    "# filename_snap = '19000101.ocean_'+averaging+'_'+vgrid+'_snap*.nc'\n",
    "filename_snap = 'ocean_'+averaging+'_'+vgrid+'_snap.nc'\n",
    "# ds_snap = xr.open_mfdataset(rootdir+filename_snap, combine='by_coords')\n",
    "ds_snap = xr.open_dataset(rootdir+filename_snap)\n",
    "\n",
    "# Snapshots: for evaluating budget tracer content tendency\n",
    "# NOTE: time-mean i corresponds to the snapshots at i and i-1\n",
    "# so, for example, diff(snap[1]-snap[0])/dt = mean[1]\n",
    "l_snap = ds_snap['temp'] # Snapshots of volume-defining tracer\n",
    "h_snap = ds_snap['thkcello'] # Snapshots of layer thickness (for tracer content calculation)\n",
    "\n",
    "new_time = ds['time'][1:]\n",
    "volume = h_snap*grid.areacello\n",
    "dVdt = calc_dPdt(l = l_snap, p = rho0, l_l_vals = l_l_vals, weight = volume, new_time=new_time)"
   ]
  },
  {
   "cell_type": "code",
   "execution_count": 17,
   "metadata": {},
   "outputs": [],
   "source": [
    "nt = len(ds['time'])\n",
    "l = ds['temp'][{'time':slice(1,nt)}]\n",
    "dls = ds[heat_terms[3:]][{'time':slice(1,nt)}]/rho0/cp\n",
    "l_i_vals = np.arange(-4,34,0.25)\n",
    "l_l_vals = 0.5*(l_i_vals[:-1]+l_i_vals[1:])\n",
    "\n",
    "weight_dl = grid.areacello\n",
    "c = rho0\n",
    "ps = rho0*ds['boundary_forcing_h_tendency'][{'time':slice(1,nt)}].to_dataset()\n",
    "weight_p = grid.areacello\n",
    "dims = ['xh','yh','zl']\n",
    "greaterthan = True\n",
    "dim_time='time'\n",
    "\n",
    "l_snap = ds_snap['temp']\n",
    "volume_snap = ds_snap['thkcello']*grid.areacello\n",
    "\n",
    "new_time = l['time']\n",
    "\n",
    "# dMdt\n",
    "dMdt = calc_dPdt(l=l_snap,p=rho0,l_l_vals=l_l_vals,weight=volume_snap,new_time=new_time)\n",
    "# E\n",
    "E = calc_E_wrapper(l=l, dls=dls, l_i_vals=l_i_vals, c=c, weight=weight_dl)\n",
    "# P\n",
    "P = calc_P_wrapper(l=l, ps=ps, l_l_vals=l_l_vals, weight=weight_p, greaterthan=greaterthan)"
   ]
  },
  {
   "cell_type": "code",
   "execution_count": 18,
   "metadata": {},
   "outputs": [
    {
     "data": {
      "text/plain": [
       "<matplotlib.collections.QuadMesh at 0x2b32d1988700>"
      ]
     },
     "execution_count": 18,
     "metadata": {},
     "output_type": "execute_result"
    },
    {
     "data": {
      "image/png": "[encoded data removed]",
      "text/plain": [
       "<Figure size 432x288 with 2 Axes>"
      ]
     },
     "metadata": {
      "needs_background": "light"
     },
     "output_type": "display_data"
    }
   ],
   "source": [
    "E_tot = xr.zeros_like(E['boundary_forcing_heat_tendency'])\n",
    "for var in E.data_vars:\n",
    "    E_tot += E[var]\n",
    "E_tot.plot()"
   ]
  },
  {
   "cell_type": "code",
   "execution_count": 19,
   "metadata": {},
   "outputs": [
    {
     "data": {
      "text/plain": [
       "[<matplotlib.lines.Line2D at 0x2b32d08a06d0>]"
      ]
     },
     "execution_count": 19,
     "metadata": {},
     "output_type": "execute_result"
    },
    {
     "data": {
      "image/png": "[encoded data removed]",
      "text/plain": [
       "<Figure size 432x288 with 1 Axes>"
      ]
     },
     "metadata": {
      "needs_background": "light"
     },
     "output_type": "display_data"
    }
   ],
   "source": [
    "residual = dMdt - E_tot\n",
    "dMdt.mean('time').plot()\n",
    "E_tot.mean('time').plot(color='tab:orange')\n",
    "E['opottempdiff'].mean('time').plot(linestyle=':',color='tab:orange')\n",
    "E['boundary_forcing_heat_tendency'].mean('time').plot(linestyle='--',color='tab:orange')\n",
    "# E['internal_heat_heat_tendency'].mean('time').plot(linestyle='-.',color='tab:orange')\n",
    "residual.mean('time').plot(color='tab:green')"
   ]
  },
  {
   "cell_type": "code",
   "execution_count": 21,
   "metadata": {},
   "outputs": [
    {
     "data": {
      "text/plain": [
       "<matplotlib.collections.QuadMesh at 0x2b3310cd9fd0>"
      ]
     },
     "execution_count": 21,
     "metadata": {},
     "output_type": "execute_result"
    },
    {
     "data": {
      "image/png": "[encoded data removed]",
      "text/plain": [
       "<Figure size 432x288 with 2 Axes>"
      ]
     },
     "metadata": {
      "needs_background": "light"
     },
     "output_type": "display_data"
    }
   ],
   "source": [
    "residual.plot()"
   ]
  },
  {
   "cell_type": "code",
   "execution_count": 22,
   "metadata": {},
   "outputs": [],
   "source": [
    "# Internal heat content budget\n",
    "nt = len(ds['time'])\n",
    "l = ds['temp'][{'time':slice(1,nt)}]\n",
    "l_i_vals = np.arange(-4,34,0.25)\n",
    "l_l_vals = 0.5*(l_i_vals[:-1]+l_i_vals[1:])\n",
    "\n",
    "ps = ds[heat_terms[3:]][{'time':slice(1,nt)}]/cp\n",
    "weight_p = grid.areacello\n",
    "dims = ['xh','yh','zl']\n",
    "greaterthan = True\n",
    "dim_time='time'\n",
    "\n",
    "l_snap = ds_snap['temp']\n",
    "volume_snap = ds_snap['thkcello']*grid.areacello\n",
    "\n",
    "new_time = l['time']\n",
    "\n",
    "dLdt = calc_dPdt(l=l_snap,p=rho0*l_snap,l_l_vals=l_l_vals,weight=volume_snap,new_time=new_time)\n",
    "dVdt = calc_dPdt(l=l_snap,p=1,l_l_vals=l_l_vals,weight=volume_snap,new_time=new_time)\n",
    "dLidt = (dLdt-rho0*dVdt*dVdt[l.name+'_bin'])\n",
    "\n",
    "P = calc_P_wrapper(l=l, ps=ps, l_l_vals=l_l_vals, weight=weight_p, greaterthan=greaterthan)"
   ]
  },
  {
   "cell_type": "code",
   "execution_count": 23,
   "metadata": {},
   "outputs": [
    {
     "data": {
      "text/plain": [
       "<matplotlib.legend.Legend at 0x2b3310c8c3a0>"
      ]
     },
     "execution_count": 23,
     "metadata": {},
     "output_type": "execute_result"
    },
    {
     "data": {
      "image/png": "[encoded data removed]",
      "text/plain": [
       "<Figure size 432x288 with 1 Axes>"
      ]
     },
     "metadata": {
      "needs_background": "light"
     },
     "output_type": "display_data"
    }
   ],
   "source": [
    "# dLdt.mean('time').plot()\n",
    "# (rho0*dVdt*dVdt[l.name+'_bin']).mean('time').plot()\n",
    "dLidt.mean('time').plot(label='dLidt')\n",
    "residual = dLidt.copy()\n",
    "for var in P.data_vars:\n",
    "    P[var].mean('time').plot(label=var)\n",
    "    residual -= P[var]\n",
    "residual.mean('time').plot(linestyle='--',color='k', label='residual')\n",
    "plt.legend()"
   ]
  },
  {
   "cell_type": "code",
   "execution_count": null,
   "metadata": {},
   "outputs": [],
   "source": []
  }
 ],
 "metadata": {
  "kernelspec": {
   "display_name": "Python 3 (ipykernel)",
   "language": "python",
   "name": "python3"
  },
  "language_info": {
   "codemirror_mode": {
    "name": "ipython",
    "version": 3
   },
   "file_extension": ".py",
   "mimetype": "text/x-python",
   "name": "python",
   "nbconvert_exporter": "python",
   "pygments_lexer": "ipython3",
   "version": "3.8.5"
  }
 },
 "nbformat": 4,
 "nbformat_minor": 4
}
