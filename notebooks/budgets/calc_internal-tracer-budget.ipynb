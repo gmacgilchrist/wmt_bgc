{
 "cells": [
  {
   "cell_type": "markdown",
   "metadata": {},
   "source": [
    "### Internal Tracer Content budget\n",
    "Calculate the terms in the internal tracer budget (a generalization of the internal heat content budget of Holmes et al., 2018):  \n",
    "$$ \\frac{\\partial \\Phi_I}{\\partial t}(\\phi,t) = \\mathcal{F}(\\phi,t) + \\mathcal{P}_I(\\phi,t) + \\mathcal{K}(\\phi,t) + \\mathcal{I}(\\phi,t) + \\mathcal{B}(\\phi,t)\\, ,$$\n",
    "where  \n",
    "$$\\Phi_I(\\phi,t) = \\mathcal{M}(\\phi,t)[\\overline{\\phi} - \\phi]$$  \n",
    "is the \"internal tracer content\". Here $\\mathcal{M}(\\phi,t)$ is the mass of water with tracer concentration less than $\\phi$ and $\\overline{\\phi}$ is the mass-weighted average tracer contration in that mass.  \n",
    "$\\mathcal{F}$ is the diffusive surface tracer flux, $\\mathcal{K}$ and $\\mathcal{I}$ are parameterized and numerical mixing respectively, $\\mathcal{P}_I(\\phi,t)$ is the internal component of the surface tracer flux due to surface mass fluxes (i.e. $P-E+R$), and $\\mathcal{B}$ is a source/sink term for reactive tracers."
   ]
  },
  {
   "cell_type": "code",
   "execution_count": 1,
   "metadata": {},
   "outputs": [],
   "source": [
    "import xarray as xr\n",
    "import numpy as np\n",
    "from matplotlib import pyplot as plt\n",
    "import budgetcalcs as bc\n",
    "import calc_wmt as wmt"
   ]
  },
  {
   "cell_type": "code",
   "execution_count": 2,
   "metadata": {},
   "outputs": [
    {
     "name": "stderr",
     "output_type": "stream",
     "text": [
      "/nbhome/gam/miniconda/envs/mom6-clean/lib/python3.8/site-packages/distributed/dashboard/core.py:79: UserWarning: \n",
      "Port 8726 is already in use. \n",
      "Perhaps you already have a cluster running?\n",
      "Hosting the diagnostics dashboard on a random port instead.\n",
      "  warnings.warn(\"\\n\" + msg)\n"
     ]
    },
    {
     "data": {
      "text/html": [
       "<table style=\"border: 2px solid white;\">\n",
       "<tr>\n",
       "<td style=\"vertical-align: top; border: 0px solid white\">\n",
       "<h3 style=\"text-align: left;\">Client</h3>\n",
       "<ul style=\"text-align: left; list-style: none; margin: 0; padding: 0;\">\n",
       "  <li><b>Scheduler: </b>inproc://140.208.147.171/12453/1</li>\n",
       "  <li><b>Dashboard: </b><a href='http://140.208.147.171:38793/status' target='_blank'>http://140.208.147.171:38793/status</a>\n",
       "</ul>\n",
       "</td>\n",
       "<td style=\"vertical-align: top; border: 0px solid white\">\n",
       "<h3 style=\"text-align: left;\">Cluster</h3>\n",
       "<ul style=\"text-align: left; list-style:none; margin: 0; padding: 0;\">\n",
       "  <li><b>Workers: </b>2</li>\n",
       "  <li><b>Cores: </b>32</li>\n",
       "  <li><b>Memory: </b>541.57 GB</li>\n",
       "</ul>\n",
       "</td>\n",
       "</tr>\n",
       "</table>"
      ],
      "text/plain": [
       "<Client: 'inproc://140.208.147.171/12453/1' processes=2 threads=32, memory=541.57 GB>"
      ]
     },
     "execution_count": 2,
     "metadata": {},
     "output_type": "execute_result"
    }
   ],
   "source": [
    "from distributed import Client, LocalCluster, progress\n",
    "from dask_jobqueue import SLURMCluster\n",
    "\n",
    "cluster = LocalCluster(\n",
    "    threads_per_worker=16,\n",
    "    n_workers=2,\n",
    "    dashboard_address=8726,\n",
    "    processes=False)\n",
    "\n",
    "client = Client(cluster)\n",
    "client"
   ]
  },
  {
   "cell_type": "code",
   "execution_count": 3,
   "metadata": {},
   "outputs": [
    {
     "name": "stdout",
     "output_type": "stream",
     "text": [
      "Loading common.\n"
     ]
    },
    {
     "name": "stderr",
     "output_type": "stream",
     "text": [
      "/nbhome/gam/miniconda/envs/mom6-clean/lib/python3.8/site-packages/xarray/coding/times.py:426: SerializationWarning: Unable to decode time axis into full numpy.datetime64 objects, continuing using cftime.datetime objects instead, reason: dates out of range\n",
      "  dtype = _decode_cf_datetime_dtype(data, units, calendar, self.use_cftime)\n"
     ]
    },
    {
     "name": "stdout",
     "output_type": "stream",
     "text": [
      "Loading heat.\n"
     ]
    },
    {
     "name": "stderr",
     "output_type": "stream",
     "text": [
      "/nbhome/gam/miniconda/envs/mom6-clean/lib/python3.8/site-packages/xarray/coding/times.py:426: SerializationWarning: Unable to decode time axis into full numpy.datetime64 objects, continuing using cftime.datetime objects instead, reason: dates out of range\n",
      "  dtype = _decode_cf_datetime_dtype(data, units, calendar, self.use_cftime)\n"
     ]
    },
    {
     "name": "stdout",
     "output_type": "stream",
     "text": [
      "Loading salt.\n"
     ]
    },
    {
     "name": "stderr",
     "output_type": "stream",
     "text": [
      "/nbhome/gam/miniconda/envs/mom6-clean/lib/python3.8/site-packages/xarray/coding/times.py:426: SerializationWarning: Unable to decode time axis into full numpy.datetime64 objects, continuing using cftime.datetime objects instead, reason: dates out of range\n",
      "  dtype = _decode_cf_datetime_dtype(data, units, calendar, self.use_cftime)\n"
     ]
    },
    {
     "name": "stdout",
     "output_type": "stream",
     "text": [
      "Loading thk.\n"
     ]
    },
    {
     "name": "stderr",
     "output_type": "stream",
     "text": [
      "/nbhome/gam/miniconda/envs/mom6-clean/lib/python3.8/site-packages/xarray/coding/times.py:426: SerializationWarning: Unable to decode time axis into full numpy.datetime64 objects, continuing using cftime.datetime objects instead, reason: dates out of range\n",
      "  dtype = _decode_cf_datetime_dtype(data, units, calendar, self.use_cftime)\n"
     ]
    },
    {
     "name": "stdout",
     "output_type": "stream",
     "text": [
      "Loading o2.\n"
     ]
    },
    {
     "name": "stderr",
     "output_type": "stream",
     "text": [
      "/nbhome/gam/miniconda/envs/mom6-clean/lib/python3.8/site-packages/xarray/coding/times.py:426: SerializationWarning: Unable to decode time axis into full numpy.datetime64 objects, continuing using cftime.datetime objects instead, reason: dates out of range\n",
      "  dtype = _decode_cf_datetime_dtype(data, units, calendar, self.use_cftime)\n"
     ]
    },
    {
     "name": "stdout",
     "output_type": "stream",
     "text": [
      "Loading no3.\n"
     ]
    },
    {
     "name": "stderr",
     "output_type": "stream",
     "text": [
      "/nbhome/gam/miniconda/envs/mom6-clean/lib/python3.8/site-packages/xarray/coding/times.py:426: SerializationWarning: Unable to decode time axis into full numpy.datetime64 objects, continuing using cftime.datetime objects instead, reason: dates out of range\n",
      "  dtype = _decode_cf_datetime_dtype(data, units, calendar, self.use_cftime)\n"
     ]
    }
   ],
   "source": [
    "# rootdir = '/archive/gam/MOM6-examples/ice_ocean_SIS2/Baltic_OM4_025/1yr/'\n",
    "rootdir = '/archive/gam/ESM4/DECK/ESM4_piControl_D/gfdl.ncrc4-intel16-prod-openmp/7/history/'\n",
    "averaging = '5daily'\n",
    "vgrid = 'native'\n",
    "dtst = '08990101'\n",
    "ds = {}\n",
    "files = ['common','heat','salt','thk','o2','no3']\n",
    "for f in files:\n",
    "    print('Loading '+f+'.')\n",
    "    if f=='common':\n",
    "        filename = dtst+'.ocean_'+averaging+'_'+vgrid+'_'+dtst[0:2]+'*.nc'\n",
    "    else:\n",
    "        filename = dtst+'.ocean_'+f+'_'+averaging+'_'+vgrid+'_'+dtst[0:2]+'*.nc'\n",
    "    ds[f] = xr.open_mfdataset(rootdir+filename, chunks={'time': 1}, combine='by_coords')\n",
    "    \n",
    "filename_grid = dtst+'.ocean_static.nc'\n",
    "delta_t = ds['heat']['average_DT'].astype('timedelta64[s]')\n",
    "grid = xr.open_dataset(rootdir+filename_grid)\n",
    "area = grid['areacello']\n",
    "\n",
    "rho0 = 1035.0\n",
    "cp = 3992.0\n",
    "\n",
    "if vgrid == 'z':\n",
    "    ds = ds.rename({'z_l':'zl'})\n",
    "\n",
    "filename_snap = dtst+'.ocean_'+averaging+'_'+vgrid+'_snap*.nc'\n",
    "ds_snap = xr.open_mfdataset(rootdir+filename_snap, chunks={'time': 1}, combine='by_coords')"
   ]
  },
  {
   "cell_type": "code",
   "execution_count": 4,
   "metadata": {},
   "outputs": [],
   "source": [
    "# Budget terms\n",
    "terms = {}\n",
    "terms['heat'] = ['opottemptend','T_advection_xy','Th_tendency_vert_remap',\n",
    "              'boundary_forcing_heat_tendency','internal_heat_heat_tendency',\n",
    "              'opottempdiff','opottemppmdiff','frazil_heat_tendency']\n",
    "terms['salt'] = ['osalttend','S_advection_xy','Sh_tendency_vert_remap',\n",
    "              'boundary_forcing_salt_tendency','osaltdiff','osaltpmdiff']\n",
    "terms['h'] = ['dhdt','dynamics_h_tendency','vert_remap_h_tendency',\n",
    "           'boundary_forcing_h_tendency']\n",
    "terms['o2'] = ['o2h_tendency','o2_advection_xy','o2h_tendency_vert_remap',\n",
    "            'o2_dfxy_cont_tendency','o2_vdiffuse_impl','jo2']\n",
    "terms['no3'] = ['no3h_tendency','no3_advection_xy','no3h_tendency_vert_remap',\n",
    "              'no3_dfxy_cont_tendency','no3_vdiffuse_impl','jno3']\n",
    "\n",
    "l_is = {}\n",
    "l_is['heat'] = np.arange(-4,34,0.5)\n",
    "l_is['o2'] = np.arange(-5E-4,5.5E-4,0.5E-6)\n",
    "l_is['no3'] = np.arange(-5E-5,3E-4,0.5E-5)"
   ]
  },
  {
   "cell_type": "code",
   "execution_count": 5,
   "metadata": {},
   "outputs": [],
   "source": [
    "# Corrections for o2 budget\n",
    "# Correct MOM6 tendencies to account for mass in cell\n",
    "# i.e. convert from [mol kg^-1 m s^-1] to [mol m^-2 s^-1]\n",
    "for term in terms['o2'][:-1]:\n",
    "    ds['o2'][term] *= rho0\n",
    "    \n",
    "### THIS A HACK WHILE I WORK OUT THE VDIFFUSE_IMPL TERMS ###\n",
    "# Calculate residual error\n",
    "# OXYGEN\n",
    "tendsum,error = bc.calc_budget(ds['o2'],terms['o2'][1:],terms['o2'][0],plot=False)\n",
    "ds['o2']['o2_vdiffuse_impl']=error\n",
    "\n",
    "# Corrections for no3 budget\n",
    "# Correct MOM6 tendencies to account for mass in cell\n",
    "# i.e. convert from [mol kg^-1 m s^-1] to [mol m^-2 s^-1]\n",
    "for term in terms['no3'][:-1]:\n",
    "    ds['no3'][term] *= rho0\n",
    "    \n",
    "### THIS A HACK WHILE I WORK OUT THE VDIFFUSE_IMPL TERMS ###\n",
    "# Calculate residual error\n",
    "# OXYGEN\n",
    "tendsum,error = bc.calc_budget(ds['no3'],terms['no3'][1:],terms['no3'][0],plot=False)\n",
    "ds['no3']['no3_vdiffuse_impl']=error"
   ]
  },
  {
   "cell_type": "code",
   "execution_count": 6,
   "metadata": {},
   "outputs": [],
   "source": [
    "l_name = 'o2'\n",
    "if l_name == 'temp':\n",
    "    ds_name = 'heat'\n",
    "else:\n",
    "    ds_name = l_name\n",
    "    \n",
    "greaterthan = False\n",
    "    \n",
    "# Time-mean fields\n",
    "l = ds[ds_name][l_name] # tracer\n",
    "\n",
    "# Snapshots: for evaluating budget tracer content tendency\n",
    "# NOTE: time-mean i corresponds to the snapshots at i and i-1\n",
    "# so, for example, diff(snap[1]-snap[0])/dt = mean[1]\n",
    "l_snap = ds_snap[l_name] # Snapshots of volume-defining tracer\n",
    "h_snap = ds_snap['thkcello'] # Snapshots of layer thickness (for tracer content calculation)"
   ]
  },
  {
   "cell_type": "code",
   "execution_count": 7,
   "metadata": {},
   "outputs": [],
   "source": [
    "# Tricky case: all contours\n",
    "l_i_vals = l_is[l_name]"
   ]
  },
  {
   "cell_type": "code",
   "execution_count": 8,
   "metadata": {},
   "outputs": [],
   "source": [
    "# Tracer content tendency\n",
    "L = wmt.calc_P(rho0*l_snap*h_snap,l_snap,l_i_vals,area,greaterthan=greaterthan)\n",
    "V = wmt.calc_P(h_snap,l_snap,l_i_vals,area,greaterthan=greaterthan)\n",
    "dL = L.diff('time').assign_coords({'time':l['time'][1:]})\n",
    "dV = V.diff('time').assign_coords({'time':l['time'][1:]})\n",
    "dLdt = dL/delta_t[1:].astype('float')\n",
    "dVdt = dV/delta_t[1:].astype('float')\n",
    "dLidt = (dLdt-rho0*dVdt*dVdt[l_name+'_bin'])"
   ]
  },
  {
   "cell_type": "code",
   "execution_count": 9,
   "metadata": {},
   "outputs": [],
   "source": [
    "# Forcing tendencies\n",
    "forcing = {}\n",
    "for term in terms[l_name][3:]:\n",
    "    forcing[term] = wmt.calc_P(ds[ds_name][term],l,l_i_vals,area,greaterthan=greaterthan)[1:,:]"
   ]
  },
  {
   "cell_type": "code",
   "execution_count": 11,
   "metadata": {},
   "outputs": [],
   "source": [
    "# External surface forcing\n",
    "p_e = ds['thk']['boundary_forcing_h_tendency']\n",
    "P_e = wmt.calc_P(p_e,l,l_i_vals,area,greaterthan=greaterthan)[1:,:]\n",
    "P_e = rho0*P_e*P_e[l_name+'_bin']"
   ]
  },
  {
   "cell_type": "code",
   "execution_count": 12,
   "metadata": {},
   "outputs": [
    {
     "name": "stdout",
     "output_type": "stream",
     "text": [
      "Loading dLidt.\n",
      "Loading o2_dfxy_cont_tendency.\n",
      "Loading o2_vdiffuse_impl.\n",
      "Loading jo2.\n",
      "CPU times: user 20min 35s, sys: 24min 7s, total: 44min 42s\n",
      "Wall time: 14min 26s\n"
     ]
    },
    {
     "data": {
      "text/html": [
       "<pre>&lt;xarray.DataArray (time: 72, o2_bin: 2100)&gt;\n",
       "array([[      -0.        ,       -0.        ,       -0.        , ...,\n",
       "         -679660.41444881,  -680279.69500867,  -680898.97556853],\n",
       "       [      -0.        ,       -0.        ,       -0.        , ...,\n",
       "         -827335.15603349,  -828088.99216655,  -828842.82829961],\n",
       "       [      -0.        ,       -0.        ,       -0.        , ...,\n",
       "        -1086916.59431332, -1087906.95111907, -1088897.30792482],\n",
       "       ...,\n",
       "       [      -0.        ,       -0.        ,       -0.        , ...,\n",
       "          -11959.57612628,   -11970.47323437,   -11981.37034245],\n",
       "       [      -0.        ,       -0.        ,       -0.        , ...,\n",
       "         -396614.09881301,  -396975.47840191,  -397336.8579908 ],\n",
       "       [      -0.        ,       -0.        ,       -0.        , ...,\n",
       "         -397232.87732245,  -397594.82071865,  -397956.76411484]])\n",
       "Coordinates:\n",
       "  * time     (time) object 0899-01-08 12:00:00 ... 0899-12-29 12:00:00\n",
       "  * o2_bin   (o2_bin) float64 -0.0004997 -0.0004993 ... 0.0005492 0.0005497</pre>"
      ],
      "text/plain": [
       "<xarray.DataArray (time: 72, o2_bin: 2100)>\n",
       "array([[      -0.        ,       -0.        ,       -0.        , ...,\n",
       "         -679660.41444881,  -680279.69500867,  -680898.97556853],\n",
       "       [      -0.        ,       -0.        ,       -0.        , ...,\n",
       "         -827335.15603349,  -828088.99216655,  -828842.82829961],\n",
       "       [      -0.        ,       -0.        ,       -0.        , ...,\n",
       "        -1086916.59431332, -1087906.95111907, -1088897.30792482],\n",
       "       ...,\n",
       "       [      -0.        ,       -0.        ,       -0.        , ...,\n",
       "          -11959.57612628,   -11970.47323437,   -11981.37034245],\n",
       "       [      -0.        ,       -0.        ,       -0.        , ...,\n",
       "         -396614.09881301,  -396975.47840191,  -397336.8579908 ],\n",
       "       [      -0.        ,       -0.        ,       -0.        , ...,\n",
       "         -397232.87732245,  -397594.82071865,  -397956.76411484]])\n",
       "Coordinates:\n",
       "  * time     (time) object 0899-01-08 12:00:00 ... 0899-12-29 12:00:00\n",
       "  * o2_bin   (o2_bin) float64 -0.0004997 -0.0004993 ... 0.0005492 0.0005497"
      ]
     },
     "execution_count": 12,
     "metadata": {},
     "output_type": "execute_result"
    }
   ],
   "source": [
    "%%time\n",
    "# Load the bits that are needed\n",
    "print('Loading dLidt.')\n",
    "dLidt.load()\n",
    "for term in terms[l_name][3:]:\n",
    "    print('Loading '+term+'.')\n",
    "    forcing[term].load()\n",
    "P_e.load()"
   ]
  },
  {
   "cell_type": "code",
   "execution_count": 15,
   "metadata": {},
   "outputs": [],
   "source": [
    "residual = dLidt.copy()\n",
    "for term in terms[l_name][3:]:\n",
    "    residual -= forcing[term]\n",
    "residual += P_e"
   ]
  },
  {
   "cell_type": "code",
   "execution_count": 16,
   "metadata": {},
   "outputs": [
    {
     "data": {
      "text/plain": [
       "<matplotlib.legend.Legend at 0x2adf6a4e9280>"
      ]
     },
     "execution_count": 16,
     "metadata": {},
     "output_type": "execute_result"
    },
    {
     "data": {
      "image/png": "[encoded data removed]",
      "text/plain": [
       "<Figure size 864x288 with 1 Axes>"
      ]
     },
     "metadata": {
      "needs_background": "light"
     },
     "output_type": "display_data"
    }
   ],
   "source": [
    "fig,ax = plt.subplots(figsize=(12,4))\n",
    "ax.plot(dLidt[l_name+'_bin'],dLidt.mean('time'),label='dLidt')\n",
    "for term in terms[l_name][3:]:\n",
    "    ax.plot(forcing[term][l_name+'_bin'],forcing[term].mean('time'),label=term)\n",
    "ax.plot(P_e[l_name+'_bin'],P_e.mean('time'),label='P_e')\n",
    "ax.plot(residual[l_name+'_bin'],residual.mean('time'),label='residual')\n",
    "\n",
    "ax.legend()"
   ]
  },
  {
   "cell_type": "code",
   "execution_count": 18,
   "metadata": {},
   "outputs": [
    {
     "data": {
      "text/plain": [
       "<matplotlib.legend.Legend at 0x2adf69d7e670>"
      ]
     },
     "execution_count": 18,
     "metadata": {},
     "output_type": "execute_result"
    },
    {
     "data": {
      "image/png": "[encoded data removed]",
      "text/plain": [
       "<Figure size 864x288 with 1 Axes>"
      ]
     },
     "metadata": {
      "needs_background": "light"
     },
     "output_type": "display_data"
    }
   ],
   "source": [
    "l_c = 80E-6\n",
    "fig,ax = plt.subplots(figsize=(12,4))\n",
    "ax.plot(dLidt['time'],dLidt.sel({l_name+'_bin':l_c},method='nearest'),label='dLidt')\n",
    "for term in terms[l_name][3:]:\n",
    "    ax.plot(forcing[term]['time'],forcing[term].sel({l_name+'_bin':l_c},method='nearest'),label=term)\n",
    "ax.plot(P_e['time'],P_e.sel({l_name+'_bin':l_c},method='nearest'),label='P_e')\n",
    "ax.plot(residual['time'],residual.sel({l_name+'_bin':l_c},method='nearest'),label='residual')\n",
    "ax.legend()"
   ]
  },
  {
   "cell_type": "markdown",
   "metadata": {},
   "source": [
    "***\n",
    "### SINGLE CONTOUR"
   ]
  },
  {
   "cell_type": "code",
   "execution_count": 16,
   "metadata": {},
   "outputs": [],
   "source": [
    "# Simple case: single contour\n",
    "l_c = 0        # tracer contour value\n",
    "volume = l > l_c # condition for volume defined by contour\n",
    "volume_snap = l_snap > l_c"
   ]
  },
  {
   "cell_type": "code",
   "execution_count": 17,
   "metadata": {},
   "outputs": [],
   "source": [
    "# Tracer content tendency\n",
    "L = (rho0*cp*l_snap*h_snap*area).where(volume_snap,0).sum(['xh','yh','zl'])\n",
    "V = (h_snap*area).where(volume_snap,0).sum(['xh','yh','zl'])\n",
    "dL = L.diff('time').assign_coords({'time':ds['time'][1:]})\n",
    "dV = V.diff('time').assign_coords({'time':ds['time'][1:]})\n",
    "dLdt = dL/delta_t[1:].astype('float')\n",
    "dVdt = dV/delta_t[1:].astype('float')\n",
    "dLidt = dLdt-rho0*cp*l_c*dVdt"
   ]
  },
  {
   "cell_type": "code",
   "execution_count": 18,
   "metadata": {},
   "outputs": [
    {
     "name": "stderr",
     "output_type": "stream",
     "text": [
      "/nbhome/gam/miniconda/envs/mom6-clean/lib/python3.8/site-packages/dask/core.py:119: RuntimeWarning: invalid value encountered in greater\n",
      "  return func(*args2)\n",
      "/nbhome/gam/miniconda/envs/mom6-clean/lib/python3.8/site-packages/dask/core.py:119: RuntimeWarning: invalid value encountered in greater\n",
      "  return func(*args2)\n",
      "/nbhome/gam/miniconda/envs/mom6-clean/lib/python3.8/site-packages/dask/core.py:119: RuntimeWarning: invalid value encountered in greater\n",
      "  return func(*args2)\n",
      "/nbhome/gam/miniconda/envs/mom6-clean/lib/python3.8/site-packages/dask/core.py:119: RuntimeWarning: invalid value encountered in greater\n",
      "  return func(*args2)\n",
      "/nbhome/gam/miniconda/envs/mom6-clean/lib/python3.8/site-packages/dask/core.py:119: RuntimeWarning: invalid value encountered in greater\n",
      "  return func(*args2)\n"
     ]
    }
   ],
   "source": [
    "# Forcing tendencies\n",
    "F = (f*area).where(volume,0).sum(['xh','yh','zl'])[1:].load()\n",
    "G = (g*area).where(volume,0).sum(['xh','yh','zl'])[1:].load()\n",
    "M = (m*area).where(volume,0).sum(['xh','yh','zl'])[1:].load()\n",
    "K = (k*area).where(volume,0).sum(['xh','yh','zl'])[1:].load()\n",
    "Z = (z*area).where(volume,0).sum(['xh','yh','zl'])[1:].load()"
   ]
  },
  {
   "cell_type": "code",
   "execution_count": 20,
   "metadata": {},
   "outputs": [
    {
     "name": "stderr",
     "output_type": "stream",
     "text": [
      "/nbhome/gam/miniconda/envs/mom6-clean/lib/python3.8/site-packages/dask/core.py:119: RuntimeWarning: invalid value encountered in greater\n",
      "  return func(*args2)\n"
     ]
    }
   ],
   "source": [
    "# Internal surface forcing\n",
    "p_e = ds['boundary_forcing_h_tendency']*rho0*cp*l_c\n",
    "P_e = (p_e*area).where(volume,0).sum(['xh','yh','zl'])[1:].load()\n",
    "F_i = F - P_e"
   ]
  },
  {
   "cell_type": "code",
   "execution_count": 21,
   "metadata": {},
   "outputs": [],
   "source": [
    "# Residual\n",
    "residual = dLidt-F_i-G-M-K-Z"
   ]
  },
  {
   "cell_type": "code",
   "execution_count": 22,
   "metadata": {},
   "outputs": [
    {
     "name": "stderr",
     "output_type": "stream",
     "text": [
      "/nbhome/gam/miniconda/envs/mom6-clean/lib/python3.8/site-packages/dask/core.py:119: RuntimeWarning: invalid value encountered in greater\n",
      "  return func(*args2)\n",
      "/nbhome/gam/miniconda/envs/mom6-clean/lib/python3.8/site-packages/dask/core.py:119: RuntimeWarning: invalid value encountered in greater\n",
      "  return func(*args2)\n"
     ]
    },
    {
     "data": {
      "text/plain": [
       "<matplotlib.legend.Legend at 0x2b7e2e0bbdf0>"
      ]
     },
     "execution_count": 22,
     "metadata": {},
     "output_type": "execute_result"
    },
    {
     "data": {
      "image/png": "[encoded data removed]",
      "text/plain": [
       "<Figure size 864x288 with 1 Axes>"
      ]
     },
     "metadata": {
      "needs_background": "light"
     },
     "output_type": "display_data"
    }
   ],
   "source": [
    "fig,ax = plt.subplots(figsize=(12,4))\n",
    "ax.plot(dLidt,label='dLidt')\n",
    "ax.plot(F_i,label='F_i')\n",
    "ax.plot(G,label='G')\n",
    "ax.plot(M,label='M')\n",
    "ax.plot(K,label='K')\n",
    "ax.plot(Z,label='Z')\n",
    "ax.plot(residual,label='residual')\n",
    "\n",
    "ax.legend()"
   ]
  },
  {
   "cell_type": "code",
   "execution_count": 23,
   "metadata": {},
   "outputs": [
    {
     "name": "stderr",
     "output_type": "stream",
     "text": [
      "/nbhome/gam/miniconda/envs/mom6-clean/lib/python3.8/site-packages/dask/core.py:119: RuntimeWarning: invalid value encountered in greater\n",
      "  return func(*args2)\n",
      "/nbhome/gam/miniconda/envs/mom6-clean/lib/python3.8/site-packages/dask/core.py:119: RuntimeWarning: invalid value encountered in greater\n",
      "  return func(*args2)\n"
     ]
    },
    {
     "data": {
      "text/plain": [
       "[<matplotlib.lines.Line2D at 0x2b7e2e0a1d00>]"
      ]
     },
     "execution_count": 23,
     "metadata": {},
     "output_type": "execute_result"
    },
    {
     "data": {
      "image/png": "[encoded data removed]",
      "text/plain": [
       "<Figure size 288x288 with 1 Axes>"
      ]
     },
     "metadata": {
      "needs_background": "light"
     },
     "output_type": "display_data"
    }
   ],
   "source": [
    "fig,ax = plt.subplots(figsize=(4,4))\n",
    "ax.plot(0,dLidt.mean('time').values,'.')\n",
    "ax.plot(0,F_i.mean('time').values,'.')\n",
    "ax.plot(0,G.mean('time').values,'.')\n",
    "ax.plot(0,M.mean('time').values,'.')\n",
    "ax.plot(0,K.mean('time').values,'.')\n",
    "ax.plot(0,Z.mean('time').values,'.')\n",
    "ax.plot(0,residual.mean('time').values,'.')"
   ]
  },
  {
   "cell_type": "code",
   "execution_count": null,
   "metadata": {},
   "outputs": [],
   "source": []
  }
 ],
 "metadata": {
  "kernelspec": {
   "display_name": "Python 3",
   "language": "python",
   "name": "python3"
  },
  "language_info": {
   "codemirror_mode": {
    "name": "ipython",
    "version": 3
   },
   "file_extension": ".py",
   "mimetype": "text/x-python",
   "name": "python",
   "nbconvert_exporter": "python",
   "pygments_lexer": "ipython3",
   "version": "3.8.2"
  }
 },
 "nbformat": 4,
 "nbformat_minor": 4
}
