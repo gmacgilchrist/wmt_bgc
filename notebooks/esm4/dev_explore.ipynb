{
 "cells": [
  {
   "cell_type": "code",
   "execution_count": 1,
   "id": "40c68f59",
   "metadata": {},
   "outputs": [],
   "source": [
    "import xarray as xr\n",
    "from xhistogram.xarray import histogram\n",
    "from dask.diagnostics import ProgressBar\n",
    "import numpy as np\n",
    "import glob\n",
    "import os\n",
    "import gsw\n",
    "import matplotlib.pyplot as plt"
   ]
  },
  {
   "cell_type": "code",
   "execution_count": 18,
   "id": "414f17cc",
   "metadata": {},
   "outputs": [],
   "source": [
    "from dask.distributed import Client\n",
    "from dask_jobqueue import SLURMCluster\n",
    "cluster = SLURMCluster(queue='stage7', cores=4, project='gfdl_o',\n",
    "                       memory=\"192GB\", walltime=\"01:00:00\",\n",
    "                       scheduler_options={\"dashboard_address\": f\":{8726}\"})"
   ]
  },
  {
   "cell_type": "code",
   "execution_count": 19,
   "id": "54fee350",
   "metadata": {},
   "outputs": [],
   "source": [
    "cluster.scale(1)"
   ]
  },
  {
   "cell_type": "code",
   "execution_count": 20,
   "id": "67052f1c",
   "metadata": {},
   "outputs": [
    {
     "data": {
      "text/html": [
       "<table style=\"border: 2px solid white;\">\n",
       "<tr>\n",
       "<td style=\"vertical-align: top; border: 0px solid white\">\n",
       "<h3 style=\"text-align: left;\">Client</h3>\n",
       "<ul style=\"text-align: left; list-style: none; margin: 0; padding: 0;\">\n",
       "  <li><b>Scheduler: </b>tcp://140.208.147.171:38869</li>\n",
       "  <li><b>Dashboard: </b><a href='http://140.208.147.171:8726/status' target='_blank'>http://140.208.147.171:8726/status</a></li>\n",
       "</ul>\n",
       "</td>\n",
       "<td style=\"vertical-align: top; border: 0px solid white\">\n",
       "<h3 style=\"text-align: left;\">Cluster</h3>\n",
       "<ul style=\"text-align: left; list-style:none; margin: 0; padding: 0;\">\n",
       "  <li><b>Workers: </b>0</li>\n",
       "  <li><b>Cores: </b>0</li>\n",
       "  <li><b>Memory: </b>0 B</li>\n",
       "</ul>\n",
       "</td>\n",
       "</tr>\n",
       "</table>"
      ],
      "text/plain": [
       "<Client: 'tcp://140.208.147.171:38869' processes=0 threads=0, memory=0 B>"
      ]
     },
     "execution_count": 20,
     "metadata": {},
     "output_type": "execute_result"
    }
   ],
   "source": [
    "client = Client(cluster)\n",
    "client"
   ]
  },
  {
   "cell_type": "code",
   "execution_count": 21,
   "id": "3fb79529",
   "metadata": {},
   "outputs": [],
   "source": [
    "def open_frompp(pp,ppname,out,local,time,var,get_static=True):\n",
    "    _,paths = get_pathspp(pp,ppname,out,local,time,var,get_static=get_static)\n",
    "    return xr.open_mfdataset(paths,use_cftime=True)\n",
    "\n",
    "def get_pathspp(pp,ppname,out,local,time,var,get_static=True):\n",
    "    filename = \".\".join([ppname,time,var,'nc'])\n",
    "    path = \"/\".join([pp,ppname,out,local,filename])\n",
    "    paths = glob.glob(path)\n",
    "    if get_static:\n",
    "        static = \".\".join([ppname,'static','nc'])\n",
    "        paths.append(\"/\".join([pp,ppname,static]))\n",
    "    return path,paths\n",
    "\n",
    "def get_pathstatic(pp,ppname):\n",
    "    static = \".\".join([ppname,'static','nc'])\n",
    "    path = \"/\".join([pp,ppname,static])\n",
    "    return path\n",
    "\n",
    "def issue_dmget(paths,wait=True):\n",
    "    cmd = \"dmget \"+' '.join(paths)\n",
    "    if not wait:\n",
    "        cmd += \" &\"\n",
    "    os.system(cmd)"
   ]
  },
  {
   "cell_type": "code",
   "execution_count": 109,
   "id": "a3f90785",
   "metadata": {},
   "outputs": [],
   "source": [
    "def create_path(pp,ppname,out,local,time,var):\n",
    "    filename = create_filename(ppname,time,var)\n",
    "    return \"/\".join([pp,ppname,out,local,filename])\n",
    "\n",
    "def create_filename(ppname,time,var):\n",
    "    return \".\".join([ppname,time,var,'nc'])"
   ]
  },
  {
   "cell_type": "code",
   "execution_count": 129,
   "id": "55134327",
   "metadata": {},
   "outputs": [],
   "source": [
    "pathDict = {'pp':('../../data/raw/ESM4/ESM4_piControl_D/'+\n",
    "                  'gfdl.ncrc4-intel16-prod-openmp/pp'),\n",
    "           'ppname':'ocean_cobalt_omip_tracers_month_z',\n",
    "           'out':'av',\n",
    "           'local':'monthly_5yr',\n",
    "           'time':['1','2'],#['0{}*'.format(i) for i in range(28,34)],\n",
    "           'var':['thetao','so'],\n",
    "           }\n",
    "\n",
    "path = []\n",
    "if all(isinstance(value,str) for value in pathDict.values()):\n",
    "    path = create_path(pathDict['pp'],\n",
    "                      pathDict['ppname'],\n",
    "                      pathDict['out'],\n",
    "                      pathDict['local'],\n",
    "                      pathDict['time'],\n",
    "                      pathDict['var'],\n",
    "                      )\n",
    "else:\n",
    "    listkeys = [key for key in pathDict if isinstance(pathDict[key],list)]\n",
    "    listvalues=[]\n",
    "    for key in listkeys:\n",
    "        listvalues.append(pathDict[key])\n",
    "        \n",
    "        # Create super list of all paths that need to be looped over \n",
    "#         = for value in pathDict[key]:\n",
    "#             print(value)\n",
    "#     for key,item in pathDict.items():\n",
    "#         if isinstance(item,str):\n",
    "#             for p in range(len(paths)):\n",
    "#                 paths[p]+=item\n",
    "#     for key in keys:\n",
    "#         for value in pathDict[key]:\n",
    "#             path.append(create_path(pathDict['pp'],\n",
    "#                           pathDict['ppname'],\n",
    "#                           pathDict['out'],\n",
    "#                           pathDict['local'],\n",
    "#                           pathDict['time'],\n",
    "#                           pathDict['var'],\n",
    "#                           ))\n",
    "        \n",
    "\n",
    "# def get_pathspp(pathDict,get_static=True):\n",
    "# paths=['']\n",
    "# for key,item in pathDict.items():\n",
    "#     if isinstance(item,str):\n",
    "#         for p in range(len(paths)):\n",
    "#             paths[p]+=item\n",
    "#     if isinstance(item,list):\n",
    "#         # expand from list to bracket expansion\n",
    "#         newitem='{'\n",
    "#         for i in item:\n",
    "#             newitem+=i+','\n",
    "#         newitem = newitem[:-1]+'}'\n",
    "#         item = newitem\n",
    "#     exec(key+\"='\"+item+\"'\")\n",
    "\n",
    "# paths\n",
    "\n",
    "\n",
    "# paths = glob.glob(path)\n",
    "# if get_static:\n",
    "#     static = \".\".join([ppname,'static','nc'])\n",
    "#     paths.append(\"/\".join([pp,ppname,static]))\n",
    "#     return path,paths"
   ]
  },
  {
   "cell_type": "code",
   "execution_count": 130,
   "id": "830dc1b1",
   "metadata": {},
   "outputs": [
    {
     "data": {
      "text/plain": [
       "[['1', '2'], ['thetao', 'so']]"
      ]
     },
     "execution_count": 130,
     "metadata": {},
     "output_type": "execute_result"
    }
   ],
   "source": [
    "listvalues"
   ]
  },
  {
   "cell_type": "code",
   "execution_count": 88,
   "id": "76e7aca2",
   "metadata": {},
   "outputs": [],
   "source": [
    "pp = ('../../data/raw/ESM4/ESM4_piControl_D/'+\n",
    "      'gfdl.ncrc4-intel16-prod-openmp/pp')\n",
    "out = 'av'\n",
    "local = 'monthly_5yr'\n",
    "time = '0[23]*'\n",
    "var = '*'\n",
    "\n",
    "ppname = 'ocean_cobalt_omip_tracers_month_z'\n",
    "path,paths = get_pathspp(pp,ppname,out,local,time,var,get_static=False)\n",
    "# dsbio = xr.open_mfdataset(paths,use_cftime=True)\n",
    "\n",
    "ppname = 'ocean_monthly_z'\n",
    "path,paths = get_pathspp(pp,ppname,out,local,time,var,get_static=False)\n",
    "# dsphy = xr.open_mfdataset(paths,use_cftime=True)\n",
    "\n",
    "# grid = xr.open_dataset(get_pathstatic(pp,ppname))"
   ]
  },
  {
   "cell_type": "code",
   "execution_count": 11,
   "id": "c6b4f497",
   "metadata": {},
   "outputs": [],
   "source": [
    "dsphy['sigma2'] = gsw.sigma2(dsphy['so'],dsphy['thetao'])\n",
    "bins = np.arange(20,30,0.1)\n",
    "volume = histogram(dsphy['sigma2'],bins=[bins],weights=dsphy['volcello'],dim=['xh','yh','z_l'])\n",
    "dissic = histogram(dsphy['sigma2'],bins=[bins],weights=dsbio['volcello']*dsbio['dissic'],dim=['xh','yh','z_l'])"
   ]
  },
  {
   "cell_type": "code",
   "execution_count": 12,
   "id": "af6272f7",
   "metadata": {},
   "outputs": [],
   "source": [
    "volume = volume.load()"
   ]
  },
  {
   "cell_type": "code",
   "execution_count": 14,
   "id": "546f0683",
   "metadata": {},
   "outputs": [
    {
     "data": {
      "text/plain": [
       "<matplotlib.collections.QuadMesh at 0x2adfde28bf40>"
      ]
     },
     "execution_count": 14,
     "metadata": {},
     "output_type": "execute_result"
    },
    {
     "data": {
      "image/png": "[encoded data removed]",
      "text/plain": [
       "<Figure size 432x288 with 2 Axes>"
      ]
     },
     "metadata": {
      "needs_background": "light"
     },
     "output_type": "display_data"
    }
   ],
   "source": [
    "(volume-volume.mean('time')).plot()"
   ]
  },
  {
   "cell_type": "code",
   "execution_count": null,
   "id": "2d51854e",
   "metadata": {},
   "outputs": [],
   "source": [
    "# client.close()\n",
    "# cluster.close()"
   ]
  }
 ],
 "metadata": {
  "kernelspec": {
   "display_name": "Python [conda env:wmt_bgc]",
   "language": "python",
   "name": "conda-env-wmt_bgc-py"
  },
  "language_info": {
   "codemirror_mode": {
    "name": "ipython",
    "version": 3
   },
   "file_extension": ".py",
   "mimetype": "text/x-python",
   "name": "python",
   "nbconvert_exporter": "python",
   "pygments_lexer": "ipython3",
   "version": "3.9.4"
  }
 },
 "nbformat": 4,
 "nbformat_minor": 5
}
