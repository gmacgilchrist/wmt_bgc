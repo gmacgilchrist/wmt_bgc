{
 "cells": [
  {
   "cell_type": "markdown",
   "metadata": {},
   "source": [
    "## Determine the fidelity of offline rebinning compared to online regridding\n",
    "MOM6 has the capacity to interpolate tracer fields online onto \"diagnostic\" vertical coordinates, e.g. rho2 or z. However, truncation errors in the interpolation mean that there are issues with closing the budgets in the new vertical coordinates (see calc_budget_tracer_regridded, and work by Andrew Shao). Furthermore, it is not always possible to do such online regridding (e.g. for CMIP6 data). Thus, we wish to determine whether an offline rebinning approach (using xhistogram) can reproduce budget closure with accuracy at least comparable to the online regridding approach.  \n",
    "\n",
    "There are two main difficulties with the offline binning approach. First, defining bin widths can result in data gaps (if no grid cell exists with a tracer value that fits into that bin). Secondly, the binning procedure necessarily assigns the budget terms to a bin according to the _time-mean_ tracer value for that grid cell.  \n",
    "\n",
    "We explore the sensitivity of the binning approach to both these issues, using daily output from the ESM4 model."
   ]
  },
  {
   "cell_type": "code",
   "execution_count": 3,
   "metadata": {},
   "outputs": [],
   "source": [
    "%load_ext autoreload\n",
    "%autoreload 2"
   ]
  },
  {
   "cell_type": "code",
   "execution_count": 4,
   "metadata": {},
   "outputs": [],
   "source": [
    "import xarray as xr\n",
    "from matplotlib import pyplot as plt\n",
    "import wmt_bgc.budgetcalcs as bc\n",
    "import wmt_bgc.rebin_functions as rb\n",
    "from xhistogram.xarray import histogram\n",
    "import numpy as np\n",
    "from dask.diagnostics import ProgressBar"
   ]
  },
  {
   "cell_type": "code",
   "execution_count": 3,
   "metadata": {},
   "outputs": [],
   "source": [
    "rootdir = '/archive/gam/ESM4/DECK/ESM4_piControl_D/gfdl.ncrc4-intel16-prod-openmp/history/'\n",
    "config = '08990101.ocean_'\n",
    "filename_grid = '08990101.ocean_static_no_mask_table.nc'\n",
    "ds_daily_native = xr.open_dataset(rootdir+config+'daily.nc',decode_times=False)\n",
    "ds_monthly_native = xr.open_dataset(rootdir+config+'month.nc',decode_times=False)\n",
    "ds_daily_rho2 = xr.open_dataset(rootdir+config+'daily_rho2.nc',decode_times=False)\n",
    "ds_monthly_rho2 = xr.open_dataset(rootdir+config+'month_rho2.nc',decode_times=False)\n",
    "ds_daily_rho2h = xr.open_dataset(rootdir+config+'daily_rho2h.nc',decode_times=False)\n",
    "ds_monthly_rho2h = xr.open_dataset(rootdir+config+'month_rho2h.nc',decode_times=False)\n",
    "grid = xr.open_dataset(rootdir+filename_grid)"
   ]
  },
  {
   "cell_type": "code",
   "execution_count": null,
   "metadata": {},
   "outputs": [],
   "source": [
    "# Rebin whole dataset in vertical dimension (retain x, y, and time)\n",
    "# Takes a long time, save to netcdf after binning\n",
    "ds_daily_native_rebinned = rb.vertical_rebin_wrapper(ds_daily_native,\"rhopot2\",ds_daily_rho2.rho2_i.values,dz_name=\"thkcello\",vert_dim=\"zl\")\n",
    "ds_daily_native_rebinned.to_netcdf('data/processed/ESM4_daily_08990101_verticalrebin_rho2')\n",
    "#ds_monthly_native_rebinned = rb.vertical_rebin_wrapper(ds_monthly_native,\"rhopot2\",ds_monthly_rho2.rho2_i.values,dz_name=\"thkcello\",vert_dim=\"zl\")\n",
    "#ds_monthly_native_rebinned.to_netcdf('data/processed/ESM4_monthly_08990101_verticalrebin_rho2')"
   ]
  },
  {
   "cell_type": "code",
   "execution_count": 4,
   "metadata": {},
   "outputs": [
    {
     "ename": "ZeroDivisionError",
     "evalue": "integer division or modulo by zero",
     "output_type": "error",
     "traceback": [
      "\u001b[0;31m---------------------------------------------------------------------------\u001b[0m",
      "\u001b[0;31mZeroDivisionError\u001b[0m                         Traceback (most recent call last)",
      "\u001b[0;32m<ipython-input-4-496b6a346166>\u001b[0m in \u001b[0;36m<module>\u001b[0;34m\u001b[0m\n\u001b[1;32m      3\u001b[0m                              \u001b[0mbins\u001b[0m\u001b[0;34m=\u001b[0m\u001b[0mds_monthly_rho2\u001b[0m\u001b[0;34m[\u001b[0m\u001b[0;34m'rho2_i'\u001b[0m\u001b[0;34m]\u001b[0m\u001b[0;34m.\u001b[0m\u001b[0mvalues\u001b[0m\u001b[0;34m,\u001b[0m\u001b[0;34m\u001b[0m\u001b[0;34m\u001b[0m\u001b[0m\n\u001b[1;32m      4\u001b[0m                              \u001b[0mdim\u001b[0m\u001b[0;34m=\u001b[0m\u001b[0;34m[\u001b[0m\u001b[0;34m'xh'\u001b[0m\u001b[0;34m,\u001b[0m\u001b[0;34m'yh'\u001b[0m\u001b[0;34m,\u001b[0m\u001b[0;34m'zl'\u001b[0m\u001b[0;34m]\u001b[0m\u001b[0;34m,\u001b[0m\u001b[0;34m\u001b[0m\u001b[0;34m\u001b[0m\u001b[0m\n\u001b[0;32m----> 5\u001b[0;31m                              area=grid['areacello'])\n\u001b[0m",
      "\u001b[0;32m~/wmt_bgc/rebin_functions.py\u001b[0m in \u001b[0;36mtotal_rebin_layerintegral\u001b[0;34m(ds, bin_data, bins, dim, area)\u001b[0m\n\u001b[1;32m     69\u001b[0m                 \u001b[0mdim\u001b[0m\u001b[0;34m=\u001b[0m\u001b[0mdim\u001b[0m\u001b[0;34m,\u001b[0m\u001b[0;34m\u001b[0m\u001b[0;34m\u001b[0m\u001b[0m\n\u001b[1;32m     70\u001b[0m                 \u001b[0mweights\u001b[0m\u001b[0;34m=\u001b[0m\u001b[0;34m(\u001b[0m\u001b[0mds\u001b[0m\u001b[0;34m[\u001b[0m\u001b[0mvar\u001b[0m\u001b[0;34m]\u001b[0m\u001b[0;34m*\u001b[0m\u001b[0marea\u001b[0m\u001b[0;34m)\u001b[0m\u001b[0;34m.\u001b[0m\u001b[0mwhere\u001b[0m\u001b[0;34m(\u001b[0m\u001b[0;34m~\u001b[0m\u001b[0mnanmask\u001b[0m\u001b[0;34m)\u001b[0m\u001b[0;34m,\u001b[0m\u001b[0;34m\u001b[0m\u001b[0;34m\u001b[0m\u001b[0m\n\u001b[0;32m---> 71\u001b[0;31m                 \u001b[0mblock_size\u001b[0m\u001b[0;34m=\u001b[0m\u001b[0;34m'auto'\u001b[0m\u001b[0;34m\u001b[0m\u001b[0;34m\u001b[0m\u001b[0m\n\u001b[0m\u001b[1;32m     72\u001b[0m             )\n\u001b[1;32m     73\u001b[0m     \u001b[0;32mreturn\u001b[0m \u001b[0mds_rebinned\u001b[0m\u001b[0;34m\u001b[0m\u001b[0;34m\u001b[0m\u001b[0m\n",
      "\u001b[0;32m/nbhome/gam/miniconda/envs/mom6/lib/python3.7/site-packages/xhistogram/xarray.py\u001b[0m in \u001b[0;36mhistogram\u001b[0;34m(bins, dim, weights, density, block_size, bin_dim_suffix, bin_edge_suffix, *args)\u001b[0m\n\u001b[1;32m    127\u001b[0m \u001b[0;34m\u001b[0m\u001b[0m\n\u001b[1;32m    128\u001b[0m     h_data = _histogram(*args_data, weights=weights_data, bins=bins, axis=axis,\n\u001b[0;32m--> 129\u001b[0;31m                         block_size=block_size)\n\u001b[0m\u001b[1;32m    130\u001b[0m \u001b[0;34m\u001b[0m\u001b[0m\n\u001b[1;32m    131\u001b[0m     \u001b[0;31m# create output dims\u001b[0m\u001b[0;34m\u001b[0m\u001b[0;34m\u001b[0m\u001b[0;34m\u001b[0m\u001b[0m\n",
      "\u001b[0;32m/nbhome/gam/miniconda/envs/mom6/lib/python3.7/site-packages/xhistogram/core.py\u001b[0m in \u001b[0;36mhistogram\u001b[0;34m(bins, axis, weights, density, block_size, *args)\u001b[0m\n\u001b[1;32m    245\u001b[0m     h = _histogram_2d_vectorized(*all_args_reshaped, bins=bins,\n\u001b[1;32m    246\u001b[0m                                  \u001b[0mweights\u001b[0m\u001b[0;34m=\u001b[0m\u001b[0mweights_reshaped\u001b[0m\u001b[0;34m,\u001b[0m\u001b[0;34m\u001b[0m\u001b[0;34m\u001b[0m\u001b[0m\n\u001b[0;32m--> 247\u001b[0;31m                                  density=density, block_size=block_size)\n\u001b[0m\u001b[1;32m    248\u001b[0m \u001b[0;34m\u001b[0m\u001b[0m\n\u001b[1;32m    249\u001b[0m     \u001b[0;32mif\u001b[0m \u001b[0mh\u001b[0m\u001b[0;34m.\u001b[0m\u001b[0mshape\u001b[0m\u001b[0;34m[\u001b[0m\u001b[0;36m0\u001b[0m\u001b[0;34m]\u001b[0m \u001b[0;34m==\u001b[0m \u001b[0;36m1\u001b[0m\u001b[0;34m:\u001b[0m\u001b[0;34m\u001b[0m\u001b[0;34m\u001b[0m\u001b[0m\n",
      "\u001b[0;32m/nbhome/gam/miniconda/envs/mom6/lib/python3.7/site-packages/xhistogram/core.py\u001b[0m in \u001b[0;36m_histogram_2d_vectorized\u001b[0;34m(bins, weights, density, right, block_size, *args)\u001b[0m\n\u001b[1;32m    124\u001b[0m \u001b[0;34m\u001b[0m\u001b[0m\n\u001b[1;32m    125\u001b[0m     bin_counts = _dispatch_bincount(bin_indices, weights, N, hist_shapes,\n\u001b[0;32m--> 126\u001b[0;31m                                     block_size=block_size)\n\u001b[0m\u001b[1;32m    127\u001b[0m \u001b[0;34m\u001b[0m\u001b[0m\n\u001b[1;32m    128\u001b[0m     \u001b[0;31m# just throw out everything outside of the bins, as np.histogram does\u001b[0m\u001b[0;34m\u001b[0m\u001b[0;34m\u001b[0m\u001b[0;34m\u001b[0m\u001b[0m\n",
      "\u001b[0;32m/nbhome/gam/miniconda/envs/mom6/lib/python3.7/site-packages/xhistogram/core.py\u001b[0m in \u001b[0;36m_dispatch_bincount\u001b[0;34m(bin_indices, weights, N, hist_shapes, block_size)\u001b[0m\n\u001b[1;32m     76\u001b[0m     \u001b[0;31m# block_chunks is like a dask chunk, a tuple that divides up the first\u001b[0m\u001b[0;34m\u001b[0m\u001b[0;34m\u001b[0m\u001b[0;34m\u001b[0m\u001b[0m\n\u001b[1;32m     77\u001b[0m     \u001b[0;31m# axis of bin_indices\u001b[0m\u001b[0;34m\u001b[0m\u001b[0;34m\u001b[0m\u001b[0;34m\u001b[0m\u001b[0m\n\u001b[0;32m---> 78\u001b[0;31m     \u001b[0mblock_chunks\u001b[0m \u001b[0;34m=\u001b[0m \u001b[0m_determine_block_chunks\u001b[0m\u001b[0;34m(\u001b[0m\u001b[0mbin_indices\u001b[0m\u001b[0;34m,\u001b[0m \u001b[0mblock_size\u001b[0m\u001b[0;34m)\u001b[0m\u001b[0;34m\u001b[0m\u001b[0;34m\u001b[0m\u001b[0m\n\u001b[0m\u001b[1;32m     79\u001b[0m     \u001b[0;32mif\u001b[0m \u001b[0mlen\u001b[0m\u001b[0;34m(\u001b[0m\u001b[0mblock_chunks\u001b[0m\u001b[0;34m)\u001b[0m \u001b[0;34m==\u001b[0m \u001b[0;36m1\u001b[0m\u001b[0;34m:\u001b[0m\u001b[0;34m\u001b[0m\u001b[0;34m\u001b[0m\u001b[0m\n\u001b[1;32m     80\u001b[0m         \u001b[0;31m# single global chunk, don't need a loop over chunks\u001b[0m\u001b[0;34m\u001b[0m\u001b[0;34m\u001b[0m\u001b[0;34m\u001b[0m\u001b[0m\n",
      "\u001b[0;32m/nbhome/gam/miniconda/envs/mom6/lib/python3.7/site-packages/xhistogram/core.py\u001b[0m in \u001b[0;36m_determine_block_chunks\u001b[0;34m(bin_indices, block_size)\u001b[0m\n\u001b[1;32m     64\u001b[0m             \u001b[0mblock_size\u001b[0m \u001b[0;34m=\u001b[0m \u001b[0mmin\u001b[0m\u001b[0;34m(\u001b[0m\u001b[0m_MAX_CHUNK_SIZE\u001b[0m \u001b[0;34m//\u001b[0m \u001b[0mN\u001b[0m\u001b[0;34m,\u001b[0m \u001b[0mM\u001b[0m\u001b[0;34m)\u001b[0m\u001b[0;34m\u001b[0m\u001b[0;34m\u001b[0m\u001b[0m\n\u001b[1;32m     65\u001b[0m     \u001b[0;32massert\u001b[0m \u001b[0misinstance\u001b[0m\u001b[0;34m(\u001b[0m\u001b[0mblock_size\u001b[0m\u001b[0;34m,\u001b[0m \u001b[0mint\u001b[0m\u001b[0;34m)\u001b[0m\u001b[0;34m\u001b[0m\u001b[0;34m\u001b[0m\u001b[0m\n\u001b[0;32m---> 66\u001b[0;31m     \u001b[0mnum_chunks\u001b[0m \u001b[0;34m=\u001b[0m \u001b[0mM\u001b[0m \u001b[0;34m//\u001b[0m \u001b[0mblock_size\u001b[0m\u001b[0;34m\u001b[0m\u001b[0;34m\u001b[0m\u001b[0m\n\u001b[0m\u001b[1;32m     67\u001b[0m     \u001b[0mblock_chunks\u001b[0m \u001b[0;34m=\u001b[0m \u001b[0mnum_chunks\u001b[0m \u001b[0;34m*\u001b[0m \u001b[0;34m(\u001b[0m\u001b[0mblock_size\u001b[0m\u001b[0;34m,\u001b[0m\u001b[0;34m)\u001b[0m\u001b[0;34m\u001b[0m\u001b[0;34m\u001b[0m\u001b[0m\n\u001b[1;32m     68\u001b[0m     \u001b[0mresidual\u001b[0m \u001b[0;34m=\u001b[0m \u001b[0mM\u001b[0m \u001b[0;34m%\u001b[0m \u001b[0mblock_size\u001b[0m\u001b[0;34m\u001b[0m\u001b[0;34m\u001b[0m\u001b[0m\n",
      "\u001b[0;31mZeroDivisionError\u001b[0m: integer division or modulo by zero"
     ]
    }
   ],
   "source": [
    "ds_monthly_native_rebinned_rho2 = rb.total_rebin_layerintegral(ds_monthly_native,\n",
    "                             ds_monthly_native['rhopot2'],\n",
    "                             bins=ds_monthly_rho2['rho2_i'].values,\n",
    "                             dim=['xh','yh','zl'],\n",
    "                             area=grid['areacello'])"
   ]
  },
  {
   "cell_type": "code",
   "execution_count": 36,
   "metadata": {},
   "outputs": [],
   "source": [
    "# Perform binning on individual terms\n",
    "term = 'opottempdiff'\n",
    "var = ds_daily_native[term].isel(time=slice(0,10)).squeeze()\n",
    "binvar = ds_daily_native['rhopot2'].isel(time=slice(0,10)).squeeze()\n",
    "nanmask = np.isnan(var)\n",
    "term_daily_native_rebinned = histogram(binvar.where(~nanmask),\n",
    "                                       bins=[ds_daily_rho2.rho2_i.values],\n",
    "                                       dim=['xh','yh','zl'],\n",
    "                                       weights=(var*grid['areacello']).where(~nanmask),\n",
    "                                       block_size=10)"
   ]
  },
  {
   "cell_type": "code",
   "execution_count": null,
   "metadata": {},
   "outputs": [],
   "source": [
    "term = 'opottempdiff'\n",
    "daily_rebinned_timemean = (ds_daily_native_rebinned[term]*grid.areacello).sum(dim=['xh','yh']).mean(dim='time').squeeze()\n",
    "monthly_rebinned = (ds_monthly_native_rebinned[term]*grid.areacello).sum(dim=['xh','yh']).squeeze()\n",
    "daily_rho2_timemean = (ds_daily_rho2[term]*grid.areacello).sum(dim=['xh','yh']).mean(dim='time').squeeze()\n",
    "monthly_rho2 = (ds_monthly_rho2[term]*grid.areacello).sum(dim=['xh','yh']).squeeze()\n",
    "daily_rho2h_timemean = (ds_daily_rho2h[term]*grid.areacello).sum(dim=['xh','yh']).mean(dim='time').squeeze()\n",
    "monthly_rho2h = (ds_monthly_rho2h[term]*grid.areacello).sum(dim=['xh','yh']).squeeze()"
   ]
  },
  {
   "cell_type": "code",
   "execution_count": null,
   "metadata": {},
   "outputs": [],
   "source": [
    "daily_rebinned_timemean.plot(label='daily_rebinned_timemean')\n",
    "monthly_rebinned.plot(label='monthly_rebinned',linestyle='--')\n",
    "daily_remapped_timemean.plot(label='daily_remapped_timemean',linestyle='-.')\n",
    "monthly_remapped.plot(label='monthly_remapped',linestyle=':')\n",
    "plt.legend()\n",
    "plt.gca().set_xlim([1028,1038])"
   ]
  },
  {
   "cell_type": "code",
   "execution_count": null,
   "metadata": {},
   "outputs": [],
   "source": []
  }
 ],
 "metadata": {
  "kernelspec": {
   "display_name": "Python [conda env:wmt_bgc]",
   "language": "python",
   "name": "conda-env-wmt_bgc-py"
  },
  "language_info": {
   "codemirror_mode": {
    "name": "ipython",
    "version": 3
   },
   "file_extension": ".py",
   "mimetype": "text/x-python",
   "name": "python",
   "nbconvert_exporter": "python",
   "pygments_lexer": "ipython3",
   "version": "3.9.4"
  }
 },
 "nbformat": 4,
 "nbformat_minor": 4
}
